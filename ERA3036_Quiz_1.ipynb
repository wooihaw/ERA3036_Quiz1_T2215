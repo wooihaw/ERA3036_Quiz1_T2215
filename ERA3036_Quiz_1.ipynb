{
 "cells": [
  {
   "cell_type": "markdown",
   "id": "357f87ec",
   "metadata": {},
   "source": [
    "# ERA3036 Quiz 1\n",
    "### Part 2\n",
    "\n",
    "The \"seeds\" dataset is a well-known dataset in the field of pattern recognition and machine learning. It is often used as a benchmark dataset for classification tasks. The dataset includes seven features: area, perimeter, compactness, length of kernel, width of kernel, asymmetry coefficient and length of kernel groove. The targets are three different varieties of wheat: Kama, Rosa and Canadian, with 70 samples per class.\n",
    "\n",
    "For this dataset, you are required to perform the following tasks:\n",
    "1. Read the dataset \"seeds_modified.csv\" into a Pandas's DataFrame and print the first 5 rows of the dataset\n",
    "2. Check for missing values and print out the number of missing values for each column.\n",
    "3. If there are any missing values, impute (replace) them with the mean values from the same column.\n",
    "4. Separate the dataset to features (X) and targets (y).\n",
    "5. Split the features and targets into training set (75%) and testing set (25%), and print the number of rows and columns for the features in the training set."
   ]
  },
  {
   "cell_type": "code",
   "execution_count": null,
   "id": "1e058370",
   "metadata": {},
   "outputs": [],
   "source": [
    "# Import necessary modules and packages\n",
    "from pandas import read_csv\n",
    "from sklearn.model_selection import train_test_split as split\n"
   ]
  },
  {
   "cell_type": "code",
   "execution_count": 7,
   "id": "93980294",
   "metadata": {},
   "outputs": [],
   "source": [
    "# 1. Read the dataset \"seeds_modified.csv\" into Pandas's DataFrame and print the first 5 rows of the dataset\n",
    "\n"
   ]
  },
  {
   "cell_type": "code",
   "execution_count": null,
   "id": "d1a872bd",
   "metadata": {},
   "outputs": [],
   "source": [
    "# 2. Check for missing values and print out the number of missing values for each column.\n",
    "\n"
   ]
  },
  {
   "cell_type": "code",
   "execution_count": null,
   "id": "f9fcd84b",
   "metadata": {},
   "outputs": [],
   "source": [
    "# 3. Impute (replace) any missing values with the mean value from the same column\n",
    "\n"
   ]
  },
  {
   "cell_type": "code",
   "execution_count": null,
   "id": "95b084e8",
   "metadata": {},
   "outputs": [],
   "source": [
    "# 4. Separate the dataset to features (X) and targets (y)\n",
    "\n"
   ]
  },
  {
   "cell_type": "code",
   "execution_count": 6,
   "id": "5c863770",
   "metadata": {},
   "outputs": [],
   "source": [
    "# 5. Split the features and targets into training set (75%) and testing set (25%), \n",
    "#    and print the number of rows and columns for the features in the training set.\n",
    "\n"
   ]
  }
 ],
 "metadata": {
  "kernelspec": {
   "display_name": "Python 3",
   "language": "python",
   "name": "python3"
  },
  "language_info": {
   "codemirror_mode": {
    "name": "ipython",
    "version": 3
   },
   "file_extension": ".py",
   "mimetype": "text/x-python",
   "name": "python",
   "nbconvert_exporter": "python",
   "pygments_lexer": "ipython3",
   "version": "3.9.4"
  }
 },
 "nbformat": 4,
 "nbformat_minor": 5
}
