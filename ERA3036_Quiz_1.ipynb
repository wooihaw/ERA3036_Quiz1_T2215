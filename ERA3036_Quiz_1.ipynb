{
 "cells": [
  {
   "cell_type": "markdown",
   "id": "357f87ec",
   "metadata": {},
   "source": [
    "# ERA3036 Quiz 1\n",
    "### Part 2\n",
    "\n",
    "In this part, you are required to perform the following tasks:\n",
    "1. Import the necessary modules and packages. \n",
    "2. Read the dataset \"seeds_modified.csv\" into a Pandas's DataFrame.\n",
    "3. Check for missing values.\n",
    "4. If there are any missing values, impute (replace) them with the mean values from the same column.\n",
    "5. Split the dataset to features (X) and targets (y).\n",
    "6. Further split the features and targets into training set (75%) and testing set (25%)."
   ]
  },
  {
   "cell_type": "code",
   "execution_count": null,
   "id": "1e058370",
   "metadata": {},
   "outputs": [],
   "source": [
    "# 1. Import necessary modules and packages\n",
    "\n"
   ]
  },
  {
   "cell_type": "code",
   "execution_count": null,
   "id": "93980294",
   "metadata": {},
   "outputs": [],
   "source": [
    "# 2. Read dataset into Pandas's DataFrame\n",
    "\n"
   ]
  },
  {
   "cell_type": "code",
   "execution_count": null,
   "id": "d1a872bd",
   "metadata": {},
   "outputs": [],
   "source": [
    "# 3. Check for missing values\n",
    "\n"
   ]
  },
  {
   "cell_type": "code",
   "execution_count": null,
   "id": "f9fcd84b",
   "metadata": {},
   "outputs": [],
   "source": [
    "# 4. Impute (replace) any missing values with the mean values from the same column\n",
    "\n"
   ]
  },
  {
   "cell_type": "code",
   "execution_count": null,
   "id": "95b084e8",
   "metadata": {},
   "outputs": [],
   "source": [
    "# 5. Split the dataset to features (X) and targets (y)\n",
    "\n"
   ]
  },
  {
   "cell_type": "code",
   "execution_count": null,
   "id": "5c863770",
   "metadata": {},
   "outputs": [],
   "source": [
    "# 6. Further split the features and targets into training set (75%) and testing set (25%).\n",
    "\n"
   ]
  }
 ],
 "metadata": {
  "kernelspec": {
   "display_name": "Python 3",
   "language": "python",
   "name": "python3"
  },
  "language_info": {
   "codemirror_mode": {
    "name": "ipython",
    "version": 3
   },
   "file_extension": ".py",
   "mimetype": "text/x-python",
   "name": "python",
   "nbconvert_exporter": "python",
   "pygments_lexer": "ipython3",
   "version": "3.9.4"
  }
 },
 "nbformat": 4,
 "nbformat_minor": 5
}
